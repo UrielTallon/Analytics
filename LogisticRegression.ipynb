{
 "cells": [
  {
   "cell_type": "code",
   "execution_count": 1,
   "metadata": {
    "collapsed": false
   },
   "outputs": [
    {
     "name": "stderr",
     "output_type": "stream",
     "text": [
      "D:\\Anaconda\\lib\\site-packages\\matplotlib\\__init__.py:872: UserWarning: axes.color_cycle is deprecated and replaced with axes.prop_cycle; please use the latter.\n",
      "  warnings.warn(self.msg_depr % (key, alt_key))\n"
     ]
    }
   ],
   "source": [
    "import pandas as pd\n",
    "import numpy as np\n",
    "import seaborn as sns\n",
    "import matplotlib.pyplot as plt\n",
    "import statsmodels.api as sm\n",
    "\n",
    "from random import sample\n",
    "from sklearn.linear_model import LogisticRegression\n",
    "from sklearn.grid_search import GridSearchCV\n",
    "\n",
    "from __future__ import unicode_literals\n",
    "\n",
    "%matplotlib inline\n",
    "sns.set_context(context = 'talk')"
   ]
  },
  {
   "cell_type": "code",
   "execution_count": 2,
   "metadata": {
    "collapsed": true
   },
   "outputs": [],
   "source": [
    "fd = pd.read_excel(\"FlightDelays.xls\")\n",
    "fd = fd.ix[:,0:-2]\n",
    "fd['Count'] = 1"
   ]
  },
  {
   "cell_type": "code",
   "execution_count": 3,
   "metadata": {
    "collapsed": false
   },
   "outputs": [],
   "source": [
    "fd['DEP_TIME'] = fd['DEP_TIME'].astype(int)\n",
    "fd['CARRIER'] = fd['CARRIER'].astype(str)\n",
    "fd['DEST'] = fd['DEST'].astype(str)\n",
    "fd['ORIGIN'] = fd['ORIGIN'].astype(str)\n",
    "fd['DAY_WEEK'] = fd['DAY_WEEK'].astype(int)\n",
    "fd['Weather'] = fd['Weather'].astype(int)\n",
    "fd['Flight Status'] = fd['Flight Status'].astype(str)"
   ]
  },
  {
   "cell_type": "code",
   "execution_count": 4,
   "metadata": {
    "collapsed": false
   },
   "outputs": [
    {
     "data": {
      "text/html": [
       "<div>\n",
       "<table border=\"1\" class=\"dataframe\">\n",
       "  <thead>\n",
       "    <tr style=\"text-align: right;\">\n",
       "      <th></th>\n",
       "      <th>CRS_DEP_TIME</th>\n",
       "      <th>CARRIER</th>\n",
       "      <th>DEP_TIME</th>\n",
       "      <th>DEST</th>\n",
       "      <th>DISTANCE</th>\n",
       "      <th>FL_DATE</th>\n",
       "      <th>FL_NUM</th>\n",
       "      <th>ORIGIN</th>\n",
       "      <th>Weather</th>\n",
       "      <th>DAY_WEEK</th>\n",
       "      <th>DAY_OF_MONTH</th>\n",
       "      <th>TAIL_NUM</th>\n",
       "      <th>Flight Status</th>\n",
       "      <th>Count</th>\n",
       "    </tr>\n",
       "  </thead>\n",
       "  <tbody>\n",
       "    <tr>\n",
       "      <th>0</th>\n",
       "      <td>1455</td>\n",
       "      <td>OH</td>\n",
       "      <td>1455</td>\n",
       "      <td>JFK</td>\n",
       "      <td>184</td>\n",
       "      <td>2004-01-01</td>\n",
       "      <td>5935</td>\n",
       "      <td>BWI</td>\n",
       "      <td>0</td>\n",
       "      <td>4</td>\n",
       "      <td>1</td>\n",
       "      <td>N940CA</td>\n",
       "      <td>ontime</td>\n",
       "      <td>1</td>\n",
       "    </tr>\n",
       "    <tr>\n",
       "      <th>1</th>\n",
       "      <td>1640</td>\n",
       "      <td>DH</td>\n",
       "      <td>1640</td>\n",
       "      <td>JFK</td>\n",
       "      <td>213</td>\n",
       "      <td>2004-01-01</td>\n",
       "      <td>6155</td>\n",
       "      <td>DCA</td>\n",
       "      <td>0</td>\n",
       "      <td>4</td>\n",
       "      <td>1</td>\n",
       "      <td>N405FJ</td>\n",
       "      <td>ontime</td>\n",
       "      <td>1</td>\n",
       "    </tr>\n",
       "    <tr>\n",
       "      <th>2</th>\n",
       "      <td>1245</td>\n",
       "      <td>DH</td>\n",
       "      <td>1245</td>\n",
       "      <td>LGA</td>\n",
       "      <td>229</td>\n",
       "      <td>2004-01-01</td>\n",
       "      <td>7208</td>\n",
       "      <td>IAD</td>\n",
       "      <td>0</td>\n",
       "      <td>4</td>\n",
       "      <td>1</td>\n",
       "      <td>N695BR</td>\n",
       "      <td>ontime</td>\n",
       "      <td>1</td>\n",
       "    </tr>\n",
       "    <tr>\n",
       "      <th>3</th>\n",
       "      <td>1715</td>\n",
       "      <td>DH</td>\n",
       "      <td>1709</td>\n",
       "      <td>LGA</td>\n",
       "      <td>229</td>\n",
       "      <td>2004-01-01</td>\n",
       "      <td>7215</td>\n",
       "      <td>IAD</td>\n",
       "      <td>0</td>\n",
       "      <td>4</td>\n",
       "      <td>1</td>\n",
       "      <td>N662BR</td>\n",
       "      <td>ontime</td>\n",
       "      <td>1</td>\n",
       "    </tr>\n",
       "    <tr>\n",
       "      <th>4</th>\n",
       "      <td>1039</td>\n",
       "      <td>DH</td>\n",
       "      <td>1035</td>\n",
       "      <td>LGA</td>\n",
       "      <td>229</td>\n",
       "      <td>2004-01-01</td>\n",
       "      <td>7792</td>\n",
       "      <td>IAD</td>\n",
       "      <td>0</td>\n",
       "      <td>4</td>\n",
       "      <td>1</td>\n",
       "      <td>N698BR</td>\n",
       "      <td>ontime</td>\n",
       "      <td>1</td>\n",
       "    </tr>\n",
       "  </tbody>\n",
       "</table>\n",
       "</div>"
      ],
      "text/plain": [
       "   CRS_DEP_TIME CARRIER  DEP_TIME DEST  DISTANCE    FL_DATE  FL_NUM ORIGIN  \\\n",
       "0          1455      OH      1455  JFK       184 2004-01-01    5935    BWI   \n",
       "1          1640      DH      1640  JFK       213 2004-01-01    6155    DCA   \n",
       "2          1245      DH      1245  LGA       229 2004-01-01    7208    IAD   \n",
       "3          1715      DH      1709  LGA       229 2004-01-01    7215    IAD   \n",
       "4          1039      DH      1035  LGA       229 2004-01-01    7792    IAD   \n",
       "\n",
       "   Weather  DAY_WEEK  DAY_OF_MONTH TAIL_NUM Flight Status  Count  \n",
       "0        0         4             1   N940CA        ontime      1  \n",
       "1        0         4             1   N405FJ        ontime      1  \n",
       "2        0         4             1   N695BR        ontime      1  \n",
       "3        0         4             1   N662BR        ontime      1  \n",
       "4        0         4             1   N698BR        ontime      1  "
      ]
     },
     "execution_count": 4,
     "metadata": {},
     "output_type": "execute_result"
    }
   ],
   "source": [
    "fd.head()"
   ]
  },
  {
   "cell_type": "code",
   "execution_count": 5,
   "metadata": {
    "collapsed": false
   },
   "outputs": [
    {
     "name": "stderr",
     "output_type": "stream",
     "text": [
      "D:\\Anaconda\\lib\\site-packages\\matplotlib\\__init__.py:892: UserWarning: axes.color_cycle is deprecated and replaced with axes.prop_cycle; please use the latter.\n",
      "  warnings.warn(self.msg_depr % (key, alt_key))\n"
     ]
    },
    {
     "data": {
      "image/png": "[encoded data removed]",
      "text/plain": [
       "<matplotlib.figure.Figure at 0x37b0a90>"
      ]
     },
     "metadata": {},
     "output_type": "display_data"
    }
   ],
   "source": [
    "def plotHistogram():\n",
    "    data = fd.groupby(by = 'Flight Status', as_index = False).count()\n",
    "    total = np.sum(data['Count'])\n",
    "    g = sns.barplot(x = 'Flight Status', y = 'Count', data = data)\n",
    "    g.set_title('Flights Delayed vs On Time')\n",
    "    g.set_yticks(np.arange(0, 2200, 200))\n",
    "    g.set(ylabel = 'Number of Flights')\n",
    "    for p in g.patches:\n",
    "        g.text(p.get_x(), p.get_height(),\n",
    "               '{} ({}%)'.format(int(p.get_height()), np.round(p.get_height()/total*100)),\n",
    "               fontsize = 22)\n",
    "plotHistogram()"
   ]
  },
  {
   "cell_type": "code",
   "execution_count": 6,
   "metadata": {
    "collapsed": false
   },
   "outputs": [
    {
     "name": "stdout",
     "output_type": "stream",
     "text": [
      "  CARRIER  Count  Percent\n",
      "0      CO     94      4.3\n",
      "1      DH    551     25.0\n",
      "2      DL    388     17.6\n",
      "3      MQ    295     13.4\n",
      "4      OH     30      1.4\n",
      "5      RU    408     18.5\n",
      "6      UA     31      1.4\n",
      "7      US    404     18.4\n"
     ]
    }
   ],
   "source": [
    "def displayPercent():\n",
    "    data = fd.groupby(by = 'CARRIER', as_index = False).count()[['CARRIER', 'Count']]\n",
    "    data['Percent'] = np.round(data['Count']/np.sum(data['Count'])*100, 1)\n",
    "    print(data)\n",
    "    \n",
    "displayPercent()"
   ]
  },
  {
   "cell_type": "code",
   "execution_count": 7,
   "metadata": {
    "collapsed": false
   },
   "outputs": [
    {
     "data": {
      "text/html": [
       "<div>\n",
       "<table border=\"1\" class=\"dataframe\">\n",
       "  <thead>\n",
       "    <tr style=\"text-align: right;\">\n",
       "      <th></th>\n",
       "      <th>DAY_WEEK</th>\n",
       "      <th>Flight Status</th>\n",
       "      <th>Count</th>\n",
       "    </tr>\n",
       "  </thead>\n",
       "  <tbody>\n",
       "    <tr>\n",
       "      <th>0</th>\n",
       "      <td>1</td>\n",
       "      <td>delayed</td>\n",
       "      <td>84</td>\n",
       "    </tr>\n",
       "    <tr>\n",
       "      <th>1</th>\n",
       "      <td>1</td>\n",
       "      <td>ontime</td>\n",
       "      <td>224</td>\n",
       "    </tr>\n",
       "    <tr>\n",
       "      <th>2</th>\n",
       "      <td>2</td>\n",
       "      <td>delayed</td>\n",
       "      <td>63</td>\n",
       "    </tr>\n",
       "    <tr>\n",
       "      <th>3</th>\n",
       "      <td>2</td>\n",
       "      <td>ontime</td>\n",
       "      <td>244</td>\n",
       "    </tr>\n",
       "    <tr>\n",
       "      <th>4</th>\n",
       "      <td>3</td>\n",
       "      <td>delayed</td>\n",
       "      <td>57</td>\n",
       "    </tr>\n",
       "    <tr>\n",
       "      <th>5</th>\n",
       "      <td>3</td>\n",
       "      <td>ontime</td>\n",
       "      <td>263</td>\n",
       "    </tr>\n",
       "    <tr>\n",
       "      <th>6</th>\n",
       "      <td>4</td>\n",
       "      <td>delayed</td>\n",
       "      <td>57</td>\n",
       "    </tr>\n",
       "    <tr>\n",
       "      <th>7</th>\n",
       "      <td>4</td>\n",
       "      <td>ontime</td>\n",
       "      <td>315</td>\n",
       "    </tr>\n",
       "    <tr>\n",
       "      <th>8</th>\n",
       "      <td>5</td>\n",
       "      <td>delayed</td>\n",
       "      <td>75</td>\n",
       "    </tr>\n",
       "    <tr>\n",
       "      <th>9</th>\n",
       "      <td>5</td>\n",
       "      <td>ontime</td>\n",
       "      <td>316</td>\n",
       "    </tr>\n",
       "    <tr>\n",
       "      <th>10</th>\n",
       "      <td>6</td>\n",
       "      <td>delayed</td>\n",
       "      <td>24</td>\n",
       "    </tr>\n",
       "    <tr>\n",
       "      <th>11</th>\n",
       "      <td>6</td>\n",
       "      <td>ontime</td>\n",
       "      <td>226</td>\n",
       "    </tr>\n",
       "    <tr>\n",
       "      <th>12</th>\n",
       "      <td>7</td>\n",
       "      <td>delayed</td>\n",
       "      <td>68</td>\n",
       "    </tr>\n",
       "    <tr>\n",
       "      <th>13</th>\n",
       "      <td>7</td>\n",
       "      <td>ontime</td>\n",
       "      <td>185</td>\n",
       "    </tr>\n",
       "  </tbody>\n",
       "</table>\n",
       "</div>"
      ],
      "text/plain": [
       "    DAY_WEEK Flight Status  Count\n",
       "0          1       delayed     84\n",
       "1          1        ontime    224\n",
       "2          2       delayed     63\n",
       "3          2        ontime    244\n",
       "4          3       delayed     57\n",
       "5          3        ontime    263\n",
       "6          4       delayed     57\n",
       "7          4        ontime    315\n",
       "8          5       delayed     75\n",
       "9          5        ontime    316\n",
       "10         6       delayed     24\n",
       "11         6        ontime    226\n",
       "12         7       delayed     68\n",
       "13         7        ontime    185"
      ]
     },
     "execution_count": 7,
     "metadata": {},
     "output_type": "execute_result"
    }
   ],
   "source": [
    "fd.groupby(by = ['DAY_WEEK', 'Flight Status'], as_index = False).count()[['DAY_WEEK', 'Flight Status', 'Count']]"
   ]
  },
  {
   "cell_type": "code",
   "execution_count": 8,
   "metadata": {
    "collapsed": false
   },
   "outputs": [
    {
     "data": {
      "image/png": "[encoded data removed]",
      "text/plain": [
       "<matplotlib.figure.Figure at 0x20f89908>"
      ]
     },
     "metadata": {},
     "output_type": "display_data"
    }
   ],
   "source": [
    "def plotPercentageWeek():\n",
    "    data1 = fd.groupby(by = ['DAY_WEEK', 'Flight Status'], as_index = False).count()[['DAY_WEEK', 'Flight Status', 'Count']]\n",
    "    data2 = fd.groupby(by = ['DAY_WEEK'], as_index = False).count()[['DAY_WEEK', 'Count']]\n",
    "    data2.columns = ['DAY_WEEK', 'Percent']\n",
    "    data3 = pd.merge(data1, data2, how = 'inner')\n",
    "    data3['Percent'] = np.round(data3['Count']/data3['Percent']*100,2)\n",
    "    g = sns.barplot(x = 'DAY_WEEK', y = 'Percent', data = data3, hue = 'Flight Status')\n",
    "    g.set_title('Percentage of Flights Delayed/Ontine by Day of the Week')\n",
    "    g.set_yticks(np.arange(0, 125, 25))\n",
    "    g.set(ylabel = 'Percentage of Flights Delayed/Ontime', xlabel = 'Day of the Week')\n",
    "\n",
    "plotPercentageWeek()"
   ]
  },
  {
   "cell_type": "code",
   "execution_count": 9,
   "metadata": {
    "collapsed": false
   },
   "outputs": [
    {
     "data": {
      "image/png": "[encoded data removed]",
      "text/plain": [
       "<matplotlib.figure.Figure at 0x20f89240>"
      ]
     },
     "metadata": {},
     "output_type": "display_data"
    }
   ],
   "source": [
    "def plotPercentageDestination():\n",
    "    data1 = fd.groupby(by = ['DEST', 'Flight Status'], as_index = False).count()[['DEST', 'Flight Status', 'Count']]\n",
    "    data2 = fd.groupby(by = ['DEST'], as_index = False).count()[['DEST', 'Count']]\n",
    "    data2.columns = ['DEST', 'Percent']\n",
    "    data3 = pd.merge(data1, data2, how = 'inner')\n",
    "    data3['Percent'] = np.round(data3['Count']/data3['Percent']*100,2)\n",
    "    g = sns.barplot(x = 'DEST', y = 'Percent', data = data3, hue = 'Flight Status')\n",
    "    g.set_title('Percentage of Flights Delayed/Ontine by Destination')\n",
    "    g.set_yticks(np.arange(0, 125, 25))\n",
    "    g.set(ylabel = 'Percentage of Flights Delayed/Ontime', xlabel = 'Destination')\n",
    "\n",
    "plotPercentageDestination()"
   ]
  },
  {
   "cell_type": "code",
   "execution_count": 10,
   "metadata": {
    "collapsed": false
   },
   "outputs": [
    {
     "data": {
      "image/png": "[encoded data removed]",
      "text/plain": [
       "<matplotlib.figure.Figure at 0x20dd4860>"
      ]
     },
     "metadata": {},
     "output_type": "display_data"
    }
   ],
   "source": [
    "def plotPercentageOrigin():\n",
    "    data1 = fd.groupby(by = ['ORIGIN', 'Flight Status'], as_index = False).count()[['ORIGIN', 'Flight Status', 'Count']]\n",
    "    data2 = fd.groupby(by = ['ORIGIN'], as_index = False).count()[['ORIGIN', 'Count']]\n",
    "    data2.columns = ['ORIGIN', 'Percent']\n",
    "    data3 = pd.merge(data1, data2, how = 'inner')\n",
    "    data3['Percent'] = np.round(data3['Count']/data3['Percent']*100,2)\n",
    "    g = sns.barplot(x = 'ORIGIN', y = 'Percent', data = data3, hue = 'Flight Status')\n",
    "    g.set_title('Percentage of Flights Delayed/Ontine by Origin')\n",
    "    g.set_yticks(np.arange(0, 125, 25))\n",
    "    g.set(ylabel = 'Percentage of Flights Delayed/Ontime', xlabel = 'Origin')\n",
    "\n",
    "plotPercentageOrigin()"
   ]
  },
  {
   "cell_type": "code",
   "execution_count": 11,
   "metadata": {
    "collapsed": false
   },
   "outputs": [],
   "source": [
    "def dataProcess():\n",
    "    def convertFlightStatus(status):\n",
    "        if status == 'ontime':\n",
    "            return 1\n",
    "        else:\n",
    "            return 0\n",
    "    data = pd.get_dummies(fd[['CARRIER', 'DEST', 'ORIGIN']])\n",
    "    data = data.join(pd.get_dummies(fd['DAY_WEEK'], prefix = 'DAY_WEEK'))\n",
    "    data = data.join(pd.get_dummies(fd['DEP_TIME'].apply(lambda x: '{:04}'.format(x)[0:2]), prefix = 'HOUR_BLOCK'))\n",
    "    data = data.join(fd[['Weather', 'Flight Status']])\n",
    "    data['Flight_Status'] = data['Flight Status'].apply(lambda x: convertFlightStatus(x))\n",
    "    data['Intercept'] = 1.0\n",
    "    return data"
   ]
  },
  {
   "cell_type": "code",
   "execution_count": 13,
   "metadata": {
    "collapsed": false
   },
   "outputs": [
    {
     "data": {
      "text/html": [
       "<div>\n",
       "<table border=\"1\" class=\"dataframe\">\n",
       "  <thead>\n",
       "    <tr style=\"text-align: right;\">\n",
       "      <th></th>\n",
       "      <th>CARRIER_CO</th>\n",
       "      <th>CARRIER_DH</th>\n",
       "      <th>CARRIER_DL</th>\n",
       "      <th>CARRIER_MQ</th>\n",
       "      <th>CARRIER_OH</th>\n",
       "      <th>CARRIER_RU</th>\n",
       "      <th>CARRIER_UA</th>\n",
       "      <th>CARRIER_US</th>\n",
       "      <th>DEST_EWR</th>\n",
       "      <th>DEST_JFK</th>\n",
       "      <th>...</th>\n",
       "      <th>HOUR_BLOCK_18</th>\n",
       "      <th>HOUR_BLOCK_19</th>\n",
       "      <th>HOUR_BLOCK_20</th>\n",
       "      <th>HOUR_BLOCK_21</th>\n",
       "      <th>HOUR_BLOCK_22</th>\n",
       "      <th>HOUR_BLOCK_23</th>\n",
       "      <th>Weather</th>\n",
       "      <th>Flight Status</th>\n",
       "      <th>Flight_Status</th>\n",
       "      <th>Intercept</th>\n",
       "    </tr>\n",
       "  </thead>\n",
       "  <tbody>\n",
       "    <tr>\n",
       "      <th>0</th>\n",
       "      <td>0</td>\n",
       "      <td>0</td>\n",
       "      <td>0</td>\n",
       "      <td>0</td>\n",
       "      <td>1</td>\n",
       "      <td>0</td>\n",
       "      <td>0</td>\n",
       "      <td>0</td>\n",
       "      <td>0</td>\n",
       "      <td>1</td>\n",
       "      <td>...</td>\n",
       "      <td>0</td>\n",
       "      <td>0</td>\n",
       "      <td>0</td>\n",
       "      <td>0</td>\n",
       "      <td>0</td>\n",
       "      <td>0</td>\n",
       "      <td>0</td>\n",
       "      <td>ontime</td>\n",
       "      <td>1</td>\n",
       "      <td>1</td>\n",
       "    </tr>\n",
       "    <tr>\n",
       "      <th>1</th>\n",
       "      <td>0</td>\n",
       "      <td>1</td>\n",
       "      <td>0</td>\n",
       "      <td>0</td>\n",
       "      <td>0</td>\n",
       "      <td>0</td>\n",
       "      <td>0</td>\n",
       "      <td>0</td>\n",
       "      <td>0</td>\n",
       "      <td>1</td>\n",
       "      <td>...</td>\n",
       "      <td>0</td>\n",
       "      <td>0</td>\n",
       "      <td>0</td>\n",
       "      <td>0</td>\n",
       "      <td>0</td>\n",
       "      <td>0</td>\n",
       "      <td>0</td>\n",
       "      <td>ontime</td>\n",
       "      <td>1</td>\n",
       "      <td>1</td>\n",
       "    </tr>\n",
       "    <tr>\n",
       "      <th>2</th>\n",
       "      <td>0</td>\n",
       "      <td>1</td>\n",
       "      <td>0</td>\n",
       "      <td>0</td>\n",
       "      <td>0</td>\n",
       "      <td>0</td>\n",
       "      <td>0</td>\n",
       "      <td>0</td>\n",
       "      <td>0</td>\n",
       "      <td>0</td>\n",
       "      <td>...</td>\n",
       "      <td>0</td>\n",
       "      <td>0</td>\n",
       "      <td>0</td>\n",
       "      <td>0</td>\n",
       "      <td>0</td>\n",
       "      <td>0</td>\n",
       "      <td>0</td>\n",
       "      <td>ontime</td>\n",
       "      <td>1</td>\n",
       "      <td>1</td>\n",
       "    </tr>\n",
       "    <tr>\n",
       "      <th>3</th>\n",
       "      <td>0</td>\n",
       "      <td>1</td>\n",
       "      <td>0</td>\n",
       "      <td>0</td>\n",
       "      <td>0</td>\n",
       "      <td>0</td>\n",
       "      <td>0</td>\n",
       "      <td>0</td>\n",
       "      <td>0</td>\n",
       "      <td>0</td>\n",
       "      <td>...</td>\n",
       "      <td>0</td>\n",
       "      <td>0</td>\n",
       "      <td>0</td>\n",
       "      <td>0</td>\n",
       "      <td>0</td>\n",
       "      <td>0</td>\n",
       "      <td>0</td>\n",
       "      <td>ontime</td>\n",
       "      <td>1</td>\n",
       "      <td>1</td>\n",
       "    </tr>\n",
       "    <tr>\n",
       "      <th>4</th>\n",
       "      <td>0</td>\n",
       "      <td>1</td>\n",
       "      <td>0</td>\n",
       "      <td>0</td>\n",
       "      <td>0</td>\n",
       "      <td>0</td>\n",
       "      <td>0</td>\n",
       "      <td>0</td>\n",
       "      <td>0</td>\n",
       "      <td>0</td>\n",
       "      <td>...</td>\n",
       "      <td>0</td>\n",
       "      <td>0</td>\n",
       "      <td>0</td>\n",
       "      <td>0</td>\n",
       "      <td>0</td>\n",
       "      <td>0</td>\n",
       "      <td>0</td>\n",
       "      <td>ontime</td>\n",
       "      <td>1</td>\n",
       "      <td>1</td>\n",
       "    </tr>\n",
       "  </tbody>\n",
       "</table>\n",
       "<p>5 rows × 46 columns</p>\n",
       "</div>"
      ],
      "text/plain": [
       "   CARRIER_CO  CARRIER_DH  CARRIER_DL  CARRIER_MQ  CARRIER_OH  CARRIER_RU  \\\n",
       "0           0           0           0           0           1           0   \n",
       "1           0           1           0           0           0           0   \n",
       "2           0           1           0           0           0           0   \n",
       "3           0           1           0           0           0           0   \n",
       "4           0           1           0           0           0           0   \n",
       "\n",
       "   CARRIER_UA  CARRIER_US  DEST_EWR  DEST_JFK    ...      HOUR_BLOCK_18  \\\n",
       "0           0           0         0         1    ...                  0   \n",
       "1           0           0         0         1    ...                  0   \n",
       "2           0           0         0         0    ...                  0   \n",
       "3           0           0         0         0    ...                  0   \n",
       "4           0           0         0         0    ...                  0   \n",
       "\n",
       "   HOUR_BLOCK_19  HOUR_BLOCK_20  HOUR_BLOCK_21  HOUR_BLOCK_22  HOUR_BLOCK_23  \\\n",
       "0              0              0              0              0              0   \n",
       "1              0              0              0              0              0   \n",
       "2              0              0              0              0              0   \n",
       "3              0              0              0              0              0   \n",
       "4              0              0              0              0              0   \n",
       "\n",
       "   Weather  Flight Status  Flight_Status  Intercept  \n",
       "0        0         ontime              1          1  \n",
       "1        0         ontime              1          1  \n",
       "2        0         ontime              1          1  \n",
       "3        0         ontime              1          1  \n",
       "4        0         ontime              1          1  \n",
       "\n",
       "[5 rows x 46 columns]"
      ]
     },
     "execution_count": 13,
     "metadata": {},
     "output_type": "execute_result"
    }
   ],
   "source": [
    "dataProcess().head()"
   ]
  },
  {
   "cell_type": "code",
   "execution_count": 14,
   "metadata": {
    "collapsed": true
   },
   "outputs": [],
   "source": [
    "def getTrainingAndTestDataset(data, split = 0.8):\n",
    "    train_idx = sample(data.index, int(split * len(data)))\n",
    "    test_idx = data.index.difference(train_idx)\n",
    "    train_data = data.ix[train_idx,:]\n",
    "    test_data = data.ix[test_idx,:]\n",
    "    return train_data, test_data"
   ]
  },
  {
   "cell_type": "markdown",
   "metadata": {},
   "source": [
    "Different methods:\n",
    "\n",
    "* `'newton'` $\\Rightarrow$ Newton-Raphson __(Does not converge)__\n",
    "* `'nm'` $\\Rightarrow$ Nelder-Mead __(Does not converge)__\n",
    "* `'bfgs'` $\\Rightarrow$ Broyden-Fletcher-Goldfarb-Shanno (BFGS) __(Does not converge)__\n",
    "* `'lbfgs'` $\\Rightarrow$ Limited-memory BFGS with optional box constraint __(Does not converge)__\n",
    "* `'powell'` $\\Rightarrow$ Modified Powell's method  __(Converges after 6 iterations, results not consistent with Blog's)__\n",
    "* `'cg'` $\\Rightarrow$ Conjugate gradient  __(Does not converge)__\n",
    "* `'ncg'` $\\Rightarrow$ Newton-conjugate gradient __(Converges after 15 iterations, results not consistent with Blog's)__\n",
    "* `'basinhopping'` $\\Rightarrow$ global basin-hopping solver __(Converges but not compliant with blog's results)__"
   ]
  },
  {
   "cell_type": "code",
   "execution_count": 52,
   "metadata": {
    "collapsed": false
   },
   "outputs": [],
   "source": [
    "train_data, test_data = getTrainingAndTestDataset(dataProcess(), 0.6)\n",
    "logit = sm.Logit(train_data['Flight_Status'], train_data.drop(['Flight_Status', 'Flight Status'], axis = 1))"
   ]
  },
  {
   "cell_type": "code",
   "execution_count": 53,
   "metadata": {
    "collapsed": false
   },
   "outputs": [
    {
     "name": "stdout",
     "output_type": "stream",
     "text": [
      "Optimization terminated successfully.\n",
      "         Current function value: 0.410143\n",
      "         Iterations: 6\n",
      "         Function evaluations: 2984\n",
      "                           Logit Regression Results                           \n",
      "==============================================================================\n",
      "Dep. Variable:          Flight_Status   No. Observations:                 1320\n",
      "Model:                          Logit   Df Residuals:                     1281\n",
      "Method:                           MLE   Df Model:                           38\n",
      "Date:                Mon, 14 Dec 2015   Pseudo R-squ.:                  0.1680\n",
      "Time:                        17:02:37   Log-Likelihood:                -541.39\n",
      "converged:                       True   LL-Null:                       -650.71\n",
      "                                        LLR p-value:                 3.090e-27\n",
      "=================================================================================\n",
      "                    coef    std err          z      P>|z|      [95.0% Conf. Int.]\n",
      "---------------------------------------------------------------------------------\n",
      "CARRIER_CO        0.7499        nan        nan        nan           nan       nan\n",
      "CARRIER_DH        1.2559        nan        nan        nan           nan       nan\n",
      "CARRIER_DL        1.6455        nan        nan        nan           nan       nan\n",
      "CARRIER_MQ        0.8199        nan        nan        nan           nan       nan\n",
      "CARRIER_OH        2.0704        nan        nan        nan           nan       nan\n",
      "CARRIER_RU        1.3133        nan        nan        nan           nan       nan\n",
      "CARRIER_UA        1.8678        nan        nan        nan           nan       nan\n",
      "CARRIER_US        2.2678        nan        nan        nan           nan       nan\n",
      "DEST_EWR         -0.1011   6.67e+06  -1.52e-08      1.000     -1.31e+07  1.31e+07\n",
      "DEST_JFK          0.3434    7.3e+06    4.7e-08      1.000     -1.43e+07  1.43e+07\n",
      "DEST_LGA         -0.0449   6.78e+06  -6.63e-09      1.000     -1.33e+07  1.33e+07\n",
      "ORIGIN_BWI       -0.8355        nan        nan        nan           nan       nan\n",
      "ORIGIN_DCA        0.3310        nan        nan        nan           nan       nan\n",
      "ORIGIN_IAD       -0.2875        nan        nan        nan           nan       nan\n",
      "DAY_WEEK_1       -0.1795        nan        nan        nan           nan       nan\n",
      "DAY_WEEK_2       -0.1685        nan        nan        nan           nan       nan\n",
      "DAY_WEEK_3        0.0451        nan        nan        nan           nan       nan\n",
      "DAY_WEEK_4        0.2941        nan        nan        nan           nan       nan\n",
      "DAY_WEEK_5       -0.0854        nan        nan        nan           nan       nan\n",
      "DAY_WEEK_6        0.6438        nan        nan        nan           nan       nan\n",
      "DAY_WEEK_7       -0.2818        nan        nan        nan           nan       nan\n",
      "HOUR_BLOCK_00   -33.5971   1.15e+07  -2.93e-06      1.000     -2.25e+07  2.25e+07\n",
      "HOUR_BLOCK_01   -59.3606   4.91e+12  -1.21e-11      1.000     -9.63e+12  9.63e+12\n",
      "HOUR_BLOCK_05     0.4640        nan        nan        nan           nan       nan\n",
      "HOUR_BLOCK_06     0.6223        nan        nan        nan           nan       nan\n",
      "HOUR_BLOCK_07     0.3479        nan        nan        nan           nan       nan\n",
      "HOUR_BLOCK_08     0.7575        nan        nan        nan           nan       nan\n",
      "HOUR_BLOCK_09    -0.6318        nan        nan        nan           nan       nan\n",
      "HOUR_BLOCK_10     0.9134        nan        nan        nan           nan       nan\n",
      "HOUR_BLOCK_11     0.0375        nan        nan        nan           nan       nan\n",
      "HOUR_BLOCK_12     1.3355        nan        nan        nan           nan       nan\n",
      "HOUR_BLOCK_13    -0.2016        nan        nan        nan           nan       nan\n",
      "HOUR_BLOCK_14     0.2844        nan        nan        nan           nan       nan\n",
      "HOUR_BLOCK_15    -0.8880        nan        nan        nan           nan       nan\n",
      "HOUR_BLOCK_16    -0.0393        nan        nan        nan           nan       nan\n",
      "HOUR_BLOCK_17    -0.0536        nan        nan        nan           nan       nan\n",
      "HOUR_BLOCK_18    -0.2982        nan        nan        nan           nan       nan\n",
      "HOUR_BLOCK_19    -1.3704        nan        nan        nan           nan       nan\n",
      "HOUR_BLOCK_20    -0.5592        nan        nan        nan           nan       nan\n",
      "HOUR_BLOCK_21    -0.0740        nan        nan        nan           nan       nan\n",
      "HOUR_BLOCK_22   -41.1282   2.36e+08  -1.74e-07      1.000     -4.63e+08  4.63e+08\n",
      "HOUR_BLOCK_23   -58.4401   2.03e+12  -2.88e-11      1.000     -3.98e+12  3.98e+12\n",
      "Weather         -42.8513   2.47e+08  -1.74e-07      1.000     -4.83e+08  4.83e+08\n",
      "Intercept         0.0763   2.55e+06   2.99e-08      1.000        -5e+06     5e+06\n",
      "=================================================================================\n"
     ]
    }
   ],
   "source": [
    "result = logit.fit(method = 'powell', maxiter = 40)\n",
    "print(result.summary())"
   ]
  },
  {
   "cell_type": "code",
   "execution_count": 61,
   "metadata": {
    "collapsed": false
   },
   "outputs": [
    {
     "data": {
      "text/plain": [
       "1320"
      ]
     },
     "execution_count": 61,
     "metadata": {},
     "output_type": "execute_result"
    }
   ],
   "source": [
    "len(train_data.drop(['Flight_Status', 'Flight Status', 'Intercept'], axis = 1).astype(int).values)"
   ]
  },
  {
   "cell_type": "code",
   "execution_count": 58,
   "metadata": {
    "collapsed": false
   },
   "outputs": [
    {
     "ename": "AttributeError",
     "evalue": "'int' object has no attribute 'lower'",
     "output_type": "error",
     "traceback": [
      "\u001b[1;31m---------------------------------------------------------------------------\u001b[0m",
      "\u001b[1;31mAttributeError\u001b[0m                            Traceback (most recent call last)",
      "\u001b[1;32m<ipython-input-58-89a3d910121d>\u001b[0m in \u001b[0;36m<module>\u001b[1;34m()\u001b[0m\n\u001b[0;32m      1\u001b[0m \u001b[0mlr_clf\u001b[0m \u001b[1;33m=\u001b[0m \u001b[0mLogisticRegression\u001b[0m\u001b[1;33m(\u001b[0m\u001b[1;36m500\u001b[0m\u001b[1;33m)\u001b[0m\u001b[1;33m\u001b[0m\u001b[0m\n\u001b[1;32m----> 2\u001b[1;33m \u001b[0mlr_clf\u001b[0m\u001b[1;33m.\u001b[0m\u001b[0mfit\u001b[0m\u001b[1;33m(\u001b[0m\u001b[0mtrain_data\u001b[0m\u001b[1;33m.\u001b[0m\u001b[0mdrop\u001b[0m\u001b[1;33m(\u001b[0m\u001b[1;33m[\u001b[0m\u001b[1;34m'Flight_Status'\u001b[0m\u001b[1;33m,\u001b[0m \u001b[1;34m'Flight Status'\u001b[0m\u001b[1;33m,\u001b[0m \u001b[1;34m'Intercept'\u001b[0m\u001b[1;33m]\u001b[0m\u001b[1;33m,\u001b[0m \u001b[0maxis\u001b[0m \u001b[1;33m=\u001b[0m \u001b[1;36m1\u001b[0m\u001b[1;33m)\u001b[0m\u001b[1;33m.\u001b[0m\u001b[0mastype\u001b[0m\u001b[1;33m(\u001b[0m\u001b[0mint\u001b[0m\u001b[1;33m)\u001b[0m\u001b[1;33m.\u001b[0m\u001b[0mvalues\u001b[0m\u001b[1;33m,\u001b[0m \u001b[0mtrain_data\u001b[0m\u001b[1;33m[\u001b[0m\u001b[1;34m'Flight_Status'\u001b[0m\u001b[1;33m]\u001b[0m\u001b[1;33m.\u001b[0m\u001b[0mastype\u001b[0m\u001b[1;33m(\u001b[0m\u001b[0mint\u001b[0m\u001b[1;33m)\u001b[0m\u001b[1;33m.\u001b[0m\u001b[0mvalues\u001b[0m\u001b[1;33m)\u001b[0m\u001b[1;33m\u001b[0m\u001b[0m\n\u001b[0m",
      "\u001b[1;32mD:\\Anaconda\\lib\\site-packages\\sklearn\\linear_model\\logistic.pyc\u001b[0m in \u001b[0;36mfit\u001b[1;34m(self, X, y, sample_weight)\u001b[0m\n\u001b[0;32m   1152\u001b[0m                 \u001b[0mX\u001b[0m\u001b[1;33m,\u001b[0m \u001b[0my\u001b[0m\u001b[1;33m,\u001b[0m \u001b[0mself\u001b[0m\u001b[1;33m.\u001b[0m\u001b[0mC\u001b[0m\u001b[1;33m,\u001b[0m \u001b[0mself\u001b[0m\u001b[1;33m.\u001b[0m\u001b[0mfit_intercept\u001b[0m\u001b[1;33m,\u001b[0m \u001b[0mself\u001b[0m\u001b[1;33m.\u001b[0m\u001b[0mintercept_scaling\u001b[0m\u001b[1;33m,\u001b[0m\u001b[1;33m\u001b[0m\u001b[0m\n\u001b[0;32m   1153\u001b[0m                 \u001b[0mself\u001b[0m\u001b[1;33m.\u001b[0m\u001b[0mclass_weight\u001b[0m\u001b[1;33m,\u001b[0m \u001b[0mself\u001b[0m\u001b[1;33m.\u001b[0m\u001b[0mpenalty\u001b[0m\u001b[1;33m,\u001b[0m \u001b[0mself\u001b[0m\u001b[1;33m.\u001b[0m\u001b[0mdual\u001b[0m\u001b[1;33m,\u001b[0m \u001b[0mself\u001b[0m\u001b[1;33m.\u001b[0m\u001b[0mverbose\u001b[0m\u001b[1;33m,\u001b[0m\u001b[1;33m\u001b[0m\u001b[0m\n\u001b[1;32m-> 1154\u001b[1;33m                 self.max_iter, self.tol, self.random_state)\n\u001b[0m\u001b[0;32m   1155\u001b[0m             \u001b[0mself\u001b[0m\u001b[1;33m.\u001b[0m\u001b[0mn_iter_\u001b[0m \u001b[1;33m=\u001b[0m \u001b[0mnp\u001b[0m\u001b[1;33m.\u001b[0m\u001b[0marray\u001b[0m\u001b[1;33m(\u001b[0m\u001b[1;33m[\u001b[0m\u001b[0mn_iter_\u001b[0m\u001b[1;33m]\u001b[0m\u001b[1;33m)\u001b[0m\u001b[1;33m\u001b[0m\u001b[0m\n\u001b[0;32m   1156\u001b[0m             \u001b[1;32mreturn\u001b[0m \u001b[0mself\u001b[0m\u001b[1;33m\u001b[0m\u001b[0m\n",
      "\u001b[1;32mD:\\Anaconda\\lib\\site-packages\\sklearn\\svm\\base.pyc\u001b[0m in \u001b[0;36m_fit_liblinear\u001b[1;34m(X, y, C, fit_intercept, intercept_scaling, class_weight, penalty, dual, verbose, max_iter, tol, random_state, multi_class, loss, epsilon)\u001b[0m\n\u001b[0;32m    861\u001b[0m     \"\"\"\n\u001b[0;32m    862\u001b[0m     \u001b[1;31m# FIXME Remove case insensitivity in 0.18 ---------------------\u001b[0m\u001b[1;33m\u001b[0m\u001b[1;33m\u001b[0m\u001b[0m\n\u001b[1;32m--> 863\u001b[1;33m     \u001b[0mloss_l\u001b[0m\u001b[1;33m,\u001b[0m \u001b[0mpenalty_l\u001b[0m \u001b[1;33m=\u001b[0m \u001b[0mloss\u001b[0m\u001b[1;33m.\u001b[0m\u001b[0mlower\u001b[0m\u001b[1;33m(\u001b[0m\u001b[1;33m)\u001b[0m\u001b[1;33m,\u001b[0m \u001b[0mpenalty\u001b[0m\u001b[1;33m.\u001b[0m\u001b[0mlower\u001b[0m\u001b[1;33m(\u001b[0m\u001b[1;33m)\u001b[0m\u001b[1;33m\u001b[0m\u001b[0m\n\u001b[0m\u001b[0;32m    864\u001b[0m \u001b[1;33m\u001b[0m\u001b[0m\n\u001b[0;32m    865\u001b[0m     msg = (\"loss='%s' has been deprecated in favor of \"\n",
      "\u001b[1;31mAttributeError\u001b[0m: 'int' object has no attribute 'lower'"
     ]
    }
   ],
   "source": [
    "lr_clf = LogisticRegression(500)\n",
    "lr_clf.fit(train_data.drop(['Flight_Status', 'Flight Status', 'Intercept'], axis = 1).astype(int).values, train_data['Flight_Status'].astype(int).values)"
   ]
  },
  {
   "cell_type": "code",
   "execution_count": null,
   "metadata": {
    "collapsed": true
   },
   "outputs": [],
   "source": []
  },
  {
   "cell_type": "code",
   "execution_count": null,
   "metadata": {
    "collapsed": true
   },
   "outputs": [],
   "source": []
  },
  {
   "cell_type": "code",
   "execution_count": null,
   "metadata": {
    "collapsed": true
   },
   "outputs": [],
   "source": []
  },
  {
   "cell_type": "code",
   "execution_count": null,
   "metadata": {
    "collapsed": true
   },
   "outputs": [],
   "source": []
  },
  {
   "cell_type": "code",
   "execution_count": null,
   "metadata": {
    "collapsed": true
   },
   "outputs": [],
   "source": []
  },
  {
   "cell_type": "code",
   "execution_count": null,
   "metadata": {
    "collapsed": true
   },
   "outputs": [],
   "source": []
  },
  {
   "cell_type": "code",
   "execution_count": null,
   "metadata": {
    "collapsed": true
   },
   "outputs": [],
   "source": []
  },
  {
   "cell_type": "code",
   "execution_count": null,
   "metadata": {
    "collapsed": true
   },
   "outputs": [],
   "source": []
  },
  {
   "cell_type": "code",
   "execution_count": null,
   "metadata": {
    "collapsed": true
   },
   "outputs": [],
   "source": []
  },
  {
   "cell_type": "code",
   "execution_count": null,
   "metadata": {
    "collapsed": true
   },
   "outputs": [],
   "source": []
  },
  {
   "cell_type": "code",
   "execution_count": null,
   "metadata": {
    "collapsed": true
   },
   "outputs": [],
   "source": []
  },
  {
   "cell_type": "code",
   "execution_count": null,
   "metadata": {
    "collapsed": true
   },
   "outputs": [],
   "source": []
  }
 ],
 "metadata": {
  "kernelspec": {
   "display_name": "Python 2",
   "language": "python",
   "name": "python2"
  },
  "language_info": {
   "codemirror_mode": {
    "name": "ipython",
    "version": 2
   },
   "file_extension": ".py",
   "mimetype": "text/x-python",
   "name": "python",
   "nbconvert_exporter": "python",
   "pygments_lexer": "ipython2",
   "version": "2.7.11"
  }
 },
 "nbformat": 4,
 "nbformat_minor": 0
}
