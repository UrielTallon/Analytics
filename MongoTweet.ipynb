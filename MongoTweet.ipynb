{
 "cells": [
  {
   "cell_type": "code",
   "execution_count": null,
   "metadata": {
    "collapsed": false
   },
   "outputs": [],
   "source": [
    "from __future__ import unicode_literals"
   ]
  },
  {
   "cell_type": "code",
   "execution_count": null,
   "metadata": {
    "collapsed": false
   },
   "outputs": [],
   "source": [
    "import pymongo"
   ]
  },
  {
   "cell_type": "code",
   "execution_count": null,
   "metadata": {
    "collapsed": false
   },
   "outputs": [],
   "source": [
    "import json\n",
    "import tweepy\n",
    "from tweepy import API"
   ]
  },
  {
   "cell_type": "code",
   "execution_count": null,
   "metadata": {
    "collapsed": false
   },
   "outputs": [],
   "source": [
    "import pprint\n",
    "pp = pprint.PrettyPrinter(indent = 4)"
   ]
  },
  {
   "cell_type": "code",
   "execution_count": null,
   "metadata": {
    "collapsed": false
   },
   "outputs": [],
   "source": [
    "import datetime\n",
    "import re\n",
    "from bson import json_util\n",
    "from collections import Counter\n",
    "import itertools"
   ]
  },
  {
   "cell_type": "code",
   "execution_count": null,
   "metadata": {
    "collapsed": false
   },
   "outputs": [],
   "source": [
    "import numpy as np\n",
    "import matplotlib as mpl\n",
    "import matplotlib.pyplot as plt\n",
    "import seaborn as sns\n",
    "import networkx as nx\n",
    "from networkx.drawing import draw_spring\n",
    "\n",
    "%matplotlib inline"
   ]
  },
  {
   "cell_type": "code",
   "execution_count": null,
   "metadata": {
    "collapsed": false
   },
   "outputs": [],
   "source": [
    "try:\n",
    "    conn = pymongo.MongoClient()\n",
    "    print(\"Connected successfully!!!\")\n",
    "except pymongo.errors.ConnectionFailure, e:\n",
    "   print(\"Could not connect to MongoDB: {}\".format(e)) \n",
    "conn"
   ]
  },
  {
   "cell_type": "code",
   "execution_count": null,
   "metadata": {
    "collapsed": false
   },
   "outputs": [],
   "source": [
    "db = conn.tweets"
   ]
  },
  {
   "cell_type": "code",
   "execution_count": null,
   "metadata": {
    "collapsed": false
   },
   "outputs": [],
   "source": [
    "db"
   ]
  },
  {
   "cell_type": "code",
   "execution_count": null,
   "metadata": {
    "collapsed": false
   },
   "outputs": [],
   "source": [
    "conn.database_names()"
   ]
  },
  {
   "cell_type": "code",
   "execution_count": null,
   "metadata": {
    "collapsed": false
   },
   "outputs": [],
   "source": [
    "collection = db.tweets"
   ]
  },
  {
   "cell_type": "code",
   "execution_count": null,
   "metadata": {
    "collapsed": false
   },
   "outputs": [],
   "source": [
    "collection"
   ]
  },
  {
   "cell_type": "code",
   "execution_count": null,
   "metadata": {
    "collapsed": false
   },
   "outputs": [],
   "source": [
    "db.collection_names()"
   ]
  },
  {
   "cell_type": "code",
   "execution_count": null,
   "metadata": {
    "collapsed": false
   },
   "outputs": [],
   "source": [
    "collection.insert_one({'name' : 'Alberto', 'surname' : 'Negron', 'twitter' : '@Altons'})"
   ]
  },
  {
   "cell_type": "code",
   "execution_count": null,
   "metadata": {
    "collapsed": false
   },
   "outputs": [],
   "source": [
    "conn.database_names()"
   ]
  },
  {
   "cell_type": "code",
   "execution_count": null,
   "metadata": {
    "collapsed": false
   },
   "outputs": [],
   "source": [
    "db.collection_names()"
   ]
  },
  {
   "cell_type": "code",
   "execution_count": null,
   "metadata": {
    "collapsed": false
   },
   "outputs": [],
   "source": [
    "consumer_key = #Put the consumer key here\n",
    "consumer_secret= #Put the consumer secret here"
   ]
  },
  {
   "cell_type": "code",
   "execution_count": null,
   "metadata": {
    "collapsed": false
   },
   "outputs": [],
   "source": [
    "auth = tweepy.OAuthHandler(consumer_key, consumer_secret)"
   ]
  },
  {
   "cell_type": "code",
   "execution_count": null,
   "metadata": {
    "collapsed": false
   },
   "outputs": [],
   "source": [
    "auth_url = auth.get_authorization_url()\n",
    "print('Please authorize: {}'.format(auth_url))"
   ]
  },
  {
   "cell_type": "code",
   "execution_count": null,
   "metadata": {
    "collapsed": false
   },
   "outputs": [],
   "source": [
    "TWEET_PIN = #Write your pin here\n",
    "auth.get_access_token(TWEET_PIN)"
   ]
  },
  {
   "cell_type": "code",
   "execution_count": null,
   "metadata": {
    "collapsed": false
   },
   "outputs": [],
   "source": [
    "print('ACCESS_KEY: {}'.format(auth.access_token))\n",
    "print('ACCESS_SECRET: {}'.format(auth.access_token_secret))"
   ]
  },
  {
   "cell_type": "code",
   "execution_count": null,
   "metadata": {
    "collapsed": false
   },
   "outputs": [],
   "source": [
    "api = tweepy.API(auth)"
   ]
  },
  {
   "cell_type": "code",
   "execution_count": null,
   "metadata": {
    "collapsed": false
   },
   "outputs": [],
   "source": [
    "lookup = 'terrorism'\n",
    "\n",
    "for status in tweepy.Cursor(api.search, q=lookup, lang = 'en', count = 100).items(50):\n",
    "    #creation_date = datetime.datetime.strptime(status.created_at, \"%Y-%m-%d %H:%M:%S\")\n",
    "    tweet_result = dict()\n",
    "    tweet_result['created_at'] = status.created_at \n",
    "    tweet_result['from_user'] = dict()\n",
    "    tweet_result['from_user']['id'] = status.user.id\n",
    "    tweet_result['from_user']['id_str'] = status.user.id_str\n",
    "    tweet_result['from_user']['name'] = status.user.name\n",
    "    tweet_result['from_user']['followers_count'] = status.user.followers_count\n",
    "    tweet_result['geo'] = status.geo\n",
    "    tweet_result['id']= status.id\n",
    "    tweet_result['iso_language_code']= status.lang\n",
    "    tweet_result['source']= status.source\n",
    "    tweet_result['text']= status.text\n",
    "    tweet_result['in_reply_to'] = dict()\n",
    "    tweet_result['in_reply_to']['user_id'] = status.in_reply_to_user_id\n",
    "    tweet_result['in_reply_to']['user_id_str'] = status.in_reply_to_user_id_str\n",
    "    tweet_result['in_reply_to']['user_name'] = status.in_reply_to_screen_name\n",
    "    db.terrorTweets.insert(tweet_result)"
   ]
  },
  {
   "cell_type": "code",
   "execution_count": null,
   "metadata": {
    "collapsed": false
   },
   "outputs": [],
   "source": [
    "with open('tweetweet.json', 'wb') as jf:\n",
    "    json.dump([doc for doc in db.terrorTweets.find({})], jf, indent = 4, default = json_util.default)"
   ]
  },
  {
   "cell_type": "code",
   "execution_count": null,
   "metadata": {
    "collapsed": false
   },
   "outputs": [],
   "source": [
    "db.terrorTweets.count()"
   ]
  },
  {
   "cell_type": "code",
   "execution_count": null,
   "metadata": {
    "collapsed": false
   },
   "outputs": [],
   "source": [
    "db.terrorTweets.find({'source' : {'$eq' : 'Twitter for Android'}}).count()"
   ]
  },
  {
   "cell_type": "code",
   "execution_count": null,
   "metadata": {
    "collapsed": false
   },
   "outputs": [],
   "source": [
    "def printSource():\n",
    "    for tw in db.terrorTweets.find({}):\n",
    "        print(tw['source'])"
   ]
  },
  {
   "cell_type": "code",
   "execution_count": null,
   "metadata": {
    "collapsed": false
   },
   "outputs": [],
   "source": [
    "def countSource():\n",
    "    sourceCounter = Counter()\n",
    "    for tw in db.terrorTweets.find({}):\n",
    "        sourceCounter[tw['source']] += 1\n",
    "    return sourceCounter"
   ]
  },
  {
   "cell_type": "code",
   "execution_count": null,
   "metadata": {
    "collapsed": false
   },
   "outputs": [],
   "source": [
    "def countWords():\n",
    "    wordCount = Counter()\n",
    "    wordList = list()\n",
    "    stopwords = ['the', 'this', 'that', 'of', 'a', 'an', 'to', 'and', 'for', 'with', 'we', 'is', 'are', '', 'in', 'on', 'why',\n",
    "                 'what', 'up', 'be', 'under', 'rt', 'us', 'our', 'it', 'by', 'they', 'at', 'will', 'about', 'you', 'not',\n",
    "                 'all', 'should', 'have', 'has', 'no', 'if', 'as', '&amp', 'but', 'than', 'out', 'very', 'more']\n",
    "    for tw in db.terrorTweets.find({}):\n",
    "        text = tw['text']\n",
    "        text = re.sub(r'[,.:;?!#@\\-]', '', text.strip().lower())\n",
    "        wordList.append(text.split(' '))\n",
    "    for wd in itertools.chain.from_iterable(wordList):\n",
    "        if wd not in stopwords:\n",
    "            wordCount[wd] +=1\n",
    "    return wordCount"
   ]
  },
  {
   "cell_type": "code",
   "execution_count": null,
   "metadata": {
    "collapsed": false
   },
   "outputs": [],
   "source": [
    "wdcnt = countWords()"
   ]
  },
  {
   "cell_type": "code",
   "execution_count": null,
   "metadata": {
    "collapsed": false
   },
   "outputs": [],
   "source": [
    "def getMostCommons(collection, k =10):\n",
    "    mostCommons = list()\n",
    "    for items in collection.most_common(k):\n",
    "        mostCommons.append(items[0])\n",
    "    print(mostCommons)\n",
    "    regex = re.compile(r'^.*{}.*$'.format('|'.join(mostCommons)), re.I|re.S)\n",
    "    for tweet in db.terrorTweets.find({'text' : regex}):\n",
    "        print('{} : {}'.format(tweet['from_user']['name'], tweet['text'].strip()))"
   ]
  },
  {
   "cell_type": "code",
   "execution_count": null,
   "metadata": {
    "collapsed": false
   },
   "outputs": [],
   "source": [
    "getMostCommons(countWords(), 20)"
   ]
  },
  {
   "cell_type": "code",
   "execution_count": null,
   "metadata": {
    "collapsed": false
   },
   "outputs": [],
   "source": [
    "delRes = collection.delete_many({})"
   ]
  },
  {
   "cell_type": "code",
   "execution_count": null,
   "metadata": {
    "collapsed": false
   },
   "outputs": [],
   "source": [
    "delRes.deleted_count"
   ]
  },
  {
   "cell_type": "code",
   "execution_count": null,
   "metadata": {
    "collapsed": false
   },
   "outputs": [],
   "source": [
    "db.terrorTweets.drop()"
   ]
  },
  {
   "cell_type": "code",
   "execution_count": null,
   "metadata": {
    "collapsed": false
   },
   "outputs": [],
   "source": [
    "db.collection_names()"
   ]
  },
  {
   "cell_type": "code",
   "execution_count": null,
   "metadata": {
    "collapsed": false
   },
   "outputs": [],
   "source": [
    "conn.database_names()"
   ]
  },
  {
   "cell_type": "code",
   "execution_count": null,
   "metadata": {
    "collapsed": false
   },
   "outputs": [],
   "source": [
    "mpl.rc('figure', figsize = (18, 10))\n",
    "plt.bar(np.arange(1, 26, 1), [x[1] for x in countWords().most_common(25)])\n",
    "plt.title('25 Most Common Terms')\n",
    "plt.xticks(np.arange(1, 26, 1), [x[0] for x in countWords().most_common(25)], rotation = 90);"
   ]
  },
  {
   "cell_type": "code",
   "execution_count": null,
   "metadata": {
    "collapsed": false
   },
   "outputs": [],
   "source": [
    "mpl.rc('figure', figsize = (9, 5))\n",
    "plt.bar(np.arange(1, len(countSource())+1, 1), [x for x in countSource().values()])\n",
    "plt.title('25 Most Common Terms')\n",
    "plt.xticks(np.arange(1, len(countSource())+1, 1), [x for x in countSource().keys()], rotation = 90);"
   ]
  },
  {
   "cell_type": "code",
   "execution_count": null,
   "metadata": {
    "collapsed": false
   },
   "outputs": [],
   "source": [
    "g = nx.DiGraph()"
   ]
  },
  {
   "cell_type": "code",
   "execution_count": null,
   "metadata": {
    "collapsed": false
   },
   "outputs": [],
   "source": []
  },
  {
   "cell_type": "code",
   "execution_count": null,
   "metadata": {
    "collapsed": false
   },
   "outputs": [],
   "source": []
  },
  {
   "cell_type": "code",
   "execution_count": null,
   "metadata": {
    "collapsed": false
   },
   "outputs": [],
   "source": []
  },
  {
   "cell_type": "code",
   "execution_count": null,
   "metadata": {
    "collapsed": false
   },
   "outputs": [],
   "source": []
  },
  {
   "cell_type": "code",
   "execution_count": null,
   "metadata": {
    "collapsed": false
   },
   "outputs": [],
   "source": []
  },
  {
   "cell_type": "code",
   "execution_count": null,
   "metadata": {
    "collapsed": false
   },
   "outputs": [],
   "source": []
  }
 ],
 "metadata": {
  "kernelspec": {
   "display_name": "Python 2",
   "language": "python",
   "name": "python2"
  },
  "language_info": {
   "codemirror_mode": {
    "name": "ipython",
    "version": 2
   },
   "file_extension": ".py",
   "mimetype": "text/x-python",
   "name": "python",
   "nbconvert_exporter": "python",
   "pygments_lexer": "ipython2",
   "version": "2.7.11"
  }
 },
 "nbformat": 4,
 "nbformat_minor": 0
}
